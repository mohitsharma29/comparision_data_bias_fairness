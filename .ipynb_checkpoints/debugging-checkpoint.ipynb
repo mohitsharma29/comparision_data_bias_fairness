{
 "cells": [
  {
   "cell_type": "code",
   "execution_count": 1,
   "id": "4df04a06",
   "metadata": {},
   "outputs": [],
   "source": [
    "from data_utils import preprocessDataset\n",
    "import os\n",
    "os.environ[\"CUDA_DEVICE_ORDER\"]=\"PCI_BUS_ID\"   # see issue #152\n",
    "os.environ[\"CUDA_VISIBLE_DEVICES\"]=\"0\"\n",
    "import numpy as np"
   ]
  },
  {
   "cell_type": "code",
   "execution_count": 2,
   "id": "3c00df26",
   "metadata": {},
   "outputs": [],
   "source": [
    "dataset = 'adult'\n",
    "train_dataset, test_dataset_original = preprocessDataset(f'/media/data_dump/Mohit/facct23_samplebias_data/run_1/{dataset}/raw/betaDatasets/imbalance_1.0_1.0', f'/media/data_dump/Mohit/facct23_samplebias_data/run_1/{dataset}/raw/original_test.csv', dataset)"
   ]
  },
  {
   "cell_type": "code",
   "execution_count": 3,
   "id": "2ddd7daf",
   "metadata": {},
   "outputs": [],
   "source": [
    "from sklearn.neural_network import MLPClassifier\n",
    "import math\n",
    "from torch import nn\n",
    "import torch\n",
    "from sklearn.metrics import accuracy_score"
   ]
  },
  {
   "cell_type": "code",
   "execution_count": 4,
   "id": "06f40ef6",
   "metadata": {},
   "outputs": [],
   "source": [
    "data_shape = train_dataset.features.shape"
   ]
  },
  {
   "cell_type": "code",
   "execution_count": 5,
   "id": "3298a798",
   "metadata": {},
   "outputs": [
    {
     "data": {
      "text/plain": [
       "(30162, 96)"
      ]
     },
     "execution_count": 5,
     "metadata": {},
     "output_type": "execute_result"
    }
   ],
   "source": [
    "data_shape"
   ]
  },
  {
   "cell_type": "code",
   "execution_count": 6,
   "id": "3d8cafdb",
   "metadata": {},
   "outputs": [],
   "source": [
    "from skorch import NeuralNetClassifier, NeuralNet\n",
    "import skorch"
   ]
  },
  {
   "cell_type": "code",
   "execution_count": 7,
   "id": "4af32d1d",
   "metadata": {},
   "outputs": [],
   "source": [
    "class MyModule(nn.Module):\n",
    "    def __init__(self, data_shape, nonlin=nn.ReLU()):\n",
    "        super().__init__()\n",
    "        # -1 for sensitive attribute removal (group-blind training)\n",
    "        num_units = math.ceil((2*data_shape[0])/(data_shape[1] - 1))\n",
    "        self.dense0 = nn.Linear(data_shape[1] - 1, num_units)\n",
    "        self.nonlin = nonlin\n",
    "        #self.dropout = nn.Dropout(0.5)\n",
    "        self.output = nn.Linear(num_units, 2)\n",
    "        self.softmax = nn.Softmax(dim=-1)\n",
    "\n",
    "    def forward(self, data, sample_weight, **kwargs):\n",
    "        X = data\n",
    "        X = self.nonlin(self.dense0(X))\n",
    "        X = self.softmax(self.output(X))\n",
    "        return X\n",
    "\n",
    "class MyNet(NeuralNet):\n",
    "    def __init__(self, *args, criterion__reduce=False, **kwargs):\n",
    "        # make sure to set reduce=False in your criterion, since we need the loss\n",
    "        # for each sample so that it can be weighted\n",
    "        super().__init__(*args, criterion__reduce=criterion__reduce, **kwargs)\n",
    "\n",
    "    def get_loss(self, y_pred, y_true, X, *args, **kwargs):\n",
    "        # override get_loss to use the sample_weight from X\n",
    "        loss_unreduced = super().get_loss(y_pred, y_true, X, *args, **kwargs)\n",
    "        sample_weight = skorch.utils.to_tensor(X['sample_weight'], device=self.device)\n",
    "        loss_reduced = (sample_weight * loss_unreduced).mean()\n",
    "        return loss_reduced"
   ]
  },
  {
   "cell_type": "code",
   "execution_count": 8,
   "id": "6edfd42e",
   "metadata": {},
   "outputs": [],
   "source": [
    "net = MyNet(\n",
    "    MyModule(data_shape),\n",
    "    criterion=nn.NLLLoss,\n",
    "    optimizer=torch.optim.Adam,\n",
    "    train_split=None,\n",
    "    max_epochs=100,\n",
    "    lr=0.01,\n",
    "    # Shuffle training data on each epoch\n",
    "    iterator_train__shuffle=True,\n",
    "    device=0\n",
    ")"
   ]
  },
  {
   "cell_type": "code",
   "execution_count": 9,
   "id": "70ba5e95",
   "metadata": {},
   "outputs": [],
   "source": [
    "X = train_dataset.features[:,:-1]\n",
    "y = train_dataset.labels.ravel().astype(int)\n",
    "X = X.astype(np.float32)"
   ]
  },
  {
   "cell_type": "code",
   "execution_count": 10,
   "id": "b055fa50",
   "metadata": {},
   "outputs": [],
   "source": [
    "X = {'data': X,\n",
    "    'sample_weight': np.ones_like(y).astype(np.float32)}"
   ]
  },
  {
   "cell_type": "code",
   "execution_count": 11,
   "id": "d79ca49f",
   "metadata": {
    "scrolled": true
   },
   "outputs": [
    {
     "name": "stderr",
     "output_type": "stream",
     "text": [
      "size_average and reduce args will be deprecated, please use reduction='none' instead.\n"
     ]
    },
    {
     "name": "stdout",
     "output_type": "stream",
     "text": [
      "  epoch    train_loss     dur\n",
      "-------  ------------  ------\n",
      "      1       \u001b[36m-0.8229\u001b[0m  0.7724\n",
      "      2       \u001b[36m-0.8449\u001b[0m  0.7832\n",
      "      3       \u001b[36m-0.8455\u001b[0m  0.7628\n",
      "      4       \u001b[36m-0.8473\u001b[0m  0.7889\n",
      "      5       \u001b[36m-0.8502\u001b[0m  0.7849\n",
      "      6       \u001b[36m-0.8510\u001b[0m  0.8755\n",
      "      7       \u001b[36m-0.8535\u001b[0m  0.8354\n",
      "      8       -0.8530  0.8860\n",
      "      9       -0.8506  0.8593\n",
      "     10       -0.8509  0.7945\n",
      "     11       -0.8518  0.8049\n",
      "     12       -0.8520  0.8108\n",
      "     13       -0.8517  0.7701\n",
      "     14       \u001b[36m-0.8547\u001b[0m  0.8298\n",
      "     15       -0.8522  0.7860\n",
      "     16       -0.8519  0.7595\n",
      "     17       -0.8518  0.7955\n",
      "     18       -0.8531  0.7834\n",
      "     19       -0.8522  0.7601\n",
      "     20       -0.8515  0.7269\n",
      "     21       -0.8475  0.7461\n",
      "     22       -0.8519  0.8265\n",
      "     23       \u001b[36m-0.8549\u001b[0m  0.8013\n",
      "     24       -0.8534  0.5484\n",
      "     25       -0.8531  0.7830\n",
      "     26       \u001b[36m-0.8549\u001b[0m  0.9524\n",
      "     27       \u001b[36m-0.8550\u001b[0m  0.8039\n",
      "     28       -0.8507  0.8113\n",
      "     29       -0.8540  0.8248\n",
      "     30       -0.8537  0.8985\n",
      "     31       -0.8501  0.9510\n",
      "     32       -0.8499  0.9491\n",
      "     33       \u001b[36m-0.8572\u001b[0m  0.7599\n",
      "     34       -0.8512  0.8036\n",
      "     35       -0.8532  0.8028\n",
      "     36       -0.8550  0.7832\n",
      "     37       -0.8539  0.7958\n",
      "     38       -0.8547  0.7911\n",
      "     39       -0.8526  0.7992\n",
      "     40       -0.8531  0.7473\n",
      "     41       -0.8536  0.8786\n",
      "     42       -0.8544  0.8982\n",
      "     43       -0.8498  0.7853\n",
      "     44       -0.8526  0.7793\n",
      "     45       -0.8524  0.8541\n",
      "     46       -0.8539  0.9624\n",
      "     47       -0.8541  0.8218\n",
      "     48       -0.8528  0.9609\n",
      "     49       -0.8512  0.8891\n",
      "     50       -0.8557  0.8537\n",
      "     51       -0.8543  0.9064\n",
      "     52       -0.8538  0.8034\n",
      "     53       -0.8560  0.7795\n",
      "     54       -0.8560  0.8373\n",
      "     55       -0.8508  0.8887\n",
      "     56       -0.8542  0.8124\n",
      "     57       -0.8515  0.8043\n",
      "     58       -0.8555  0.8339\n",
      "     59       -0.8562  0.7899\n",
      "     60       -0.8522  0.8048\n",
      "     61       -0.8545  0.7952\n",
      "     62       -0.8548  0.8232\n",
      "     63       -0.8568  0.8233\n",
      "     64       -0.8558  0.7932\n",
      "     65       -0.8542  0.7686\n",
      "     66       -0.8526  0.7896\n",
      "     67       -0.8531  0.7728\n",
      "     68       -0.8548  0.7932\n",
      "     69       -0.8565  0.7924\n",
      "     70       -0.8545  0.7557\n",
      "     71       -0.8531  0.7938\n",
      "     72       -0.8540  0.7776\n",
      "     73       -0.8549  0.8194\n",
      "     74       -0.8511  0.7839\n",
      "     75       -0.8532  0.8544\n",
      "     76       -0.8507  0.8347\n",
      "     77       -0.8548  0.7831\n",
      "     78       -0.8556  0.7674\n",
      "     79       -0.8568  0.7642\n",
      "     80       \u001b[36m-0.8579\u001b[0m  0.7715\n",
      "     81       -0.8560  0.7942\n",
      "     82       -0.8552  0.7618\n",
      "     83       -0.8551  0.7987\n",
      "     84       -0.8561  0.7545\n",
      "     85       -0.8552  0.8685\n",
      "     86       -0.8559  0.8008\n",
      "     87       -0.8546  0.7795\n",
      "     88       -0.8509  0.7743\n",
      "     89       -0.8544  0.8083\n",
      "     90       -0.8549  0.6682\n",
      "     91       -0.8557  0.7849\n",
      "     92       -0.8574  0.7953\n",
      "     93       -0.8562  0.8062\n",
      "     94       -0.8530  0.7740\n",
      "     95       -0.8547  0.7910\n",
      "     96       -0.8549  0.7688\n",
      "     97       -0.8530  0.7848\n",
      "     98       -0.8540  0.7796\n",
      "     99       -0.8555  0.7652\n",
      "    100       -0.8543  0.7961\n"
     ]
    },
    {
     "data": {
      "text/plain": [
       "<class '__main__.MyNet'>[initialized](\n",
       "  module_=MyModule(\n",
       "    (dense0): Linear(in_features=95, out_features=635, bias=True)\n",
       "    (nonlin): ReLU()\n",
       "    (output): Linear(in_features=635, out_features=2, bias=True)\n",
       "    (softmax): Softmax(dim=-1)\n",
       "  ),\n",
       ")"
      ]
     },
     "execution_count": 11,
     "metadata": {},
     "output_type": "execute_result"
    }
   ],
   "source": [
    "net.fit(X, y)"
   ]
  },
  {
   "cell_type": "code",
   "execution_count": 12,
   "id": "exciting-express",
   "metadata": {},
   "outputs": [
    {
     "data": {
      "text/plain": [
       "array([[1.0000000e+00, 0.0000000e+00],\n",
       "       [1.0000000e+00, 0.0000000e+00],\n",
       "       [1.0000000e+00, 0.0000000e+00],\n",
       "       [1.0000000e+00, 0.0000000e+00],\n",
       "       [1.0000000e+00, 2.2547394e-22],\n",
       "       [1.0000000e+00, 0.0000000e+00],\n",
       "       [1.0000000e+00, 0.0000000e+00],\n",
       "       [1.0000000e+00, 0.0000000e+00],\n",
       "       [1.0000000e+00, 0.0000000e+00],\n",
       "       [1.0000000e+00, 0.0000000e+00]], dtype=float32)"
      ]
     },
     "execution_count": 12,
     "metadata": {},
     "output_type": "execute_result"
    }
   ],
   "source": [
    "net.predict_proba(X)[:10]"
   ]
  },
  {
   "cell_type": "code",
   "execution_count": 13,
   "id": "brilliant-alexandria",
   "metadata": {},
   "outputs": [],
   "source": [
    "test_dataset = test_dataset_original\n",
    "X_test = test_dataset.features[:,:-1]\n",
    "y_test = test_dataset.labels.ravel().astype(int)\n",
    "X_test = X_test.astype(np.float32)\n",
    "\n",
    "X_test = {'data': X_test,\n",
    "    'sample_weight': np.ones_like(y_test).astype(np.float32)}"
   ]
  },
  {
   "cell_type": "code",
   "execution_count": 14,
   "id": "gorgeous-survival",
   "metadata": {},
   "outputs": [
    {
     "data": {
      "text/plain": [
       "0.848140770252324"
      ]
     },
     "execution_count": 14,
     "metadata": {},
     "output_type": "execute_result"
    }
   ],
   "source": [
    "accuracy_score(y_test, np.argmax(net.predict(X_test), axis=1))"
   ]
  },
  {
   "cell_type": "code",
   "execution_count": 15,
   "id": "usual-entity",
   "metadata": {},
   "outputs": [
    {
     "data": {
      "text/plain": [
       "0.8541210795040116"
      ]
     },
     "execution_count": 15,
     "metadata": {},
     "output_type": "execute_result"
    }
   ],
   "source": [
    "accuracy_score(y, np.argmax(net.predict(X), axis=1))"
   ]
  },
  {
   "cell_type": "code",
   "execution_count": 67,
   "id": "perfect-tiger",
   "metadata": {},
   "outputs": [],
   "source": [
    "from sklearn.neural_network import MLPClassifier"
   ]
  },
  {
   "cell_type": "code",
   "execution_count": 68,
   "id": "loose-senior",
   "metadata": {},
   "outputs": [
    {
     "name": "stderr",
     "output_type": "stream",
     "text": [
      "Stochastic Optimizer: Maximum iterations (200) reached and the optimization hasn't converged yet.\n"
     ]
    }
   ],
   "source": [
    "cls = MLPClassifier(hidden_layer_sizes=(math.ceil((2*data_shape[0])/(data_shape[1] - 1)),)).fit(X['data'],y)"
   ]
  },
  {
   "cell_type": "code",
   "execution_count": 69,
   "id": "yellow-colleague",
   "metadata": {},
   "outputs": [
    {
     "data": {
      "text/plain": [
       "0.9246071215436642"
      ]
     },
     "execution_count": 69,
     "metadata": {},
     "output_type": "execute_result"
    }
   ],
   "source": [
    "accuracy_score(y, cls.predict(X['data']))"
   ]
  },
  {
   "cell_type": "code",
   "execution_count": 70,
   "id": "labeled-actress",
   "metadata": {},
   "outputs": [
    {
     "data": {
      "text/plain": [
       "0.8310756972111554"
      ]
     },
     "execution_count": 70,
     "metadata": {},
     "output_type": "execute_result"
    }
   ],
   "source": [
    "accuracy_score(y_test, cls.predict(X_test['data']))"
   ]
  },
  {
   "cell_type": "code",
   "execution_count": null,
   "id": "natural-japan",
   "metadata": {},
   "outputs": [],
   "source": []
  },
  {
   "cell_type": "code",
   "execution_count": null,
   "id": "1321d262",
   "metadata": {},
   "outputs": [],
   "source": [
    "#from folktables import ACSIncome, ACSDataSource"
   ]
  },
  {
   "cell_type": "code",
   "execution_count": 8,
   "id": "afc9b8d4",
   "metadata": {},
   "outputs": [],
   "source": [
    "#data_source = ACSDataSource(survey_year='2018', horizon='5-Year', survey='person', #root_dir='/media/data_dump/Mohit/facct23_samplebias_data/large_adult_source/')"
   ]
  },
  {
   "cell_type": "code",
   "execution_count": null,
   "id": "1fc055da",
   "metadata": {},
   "outputs": [],
   "source": [
    "#acs_data = data_source.get_data(download=True)"
   ]
  },
  {
   "cell_type": "code",
   "execution_count": null,
   "id": "8b1be4fa",
   "metadata": {},
   "outputs": [],
   "source": []
  }
 ],
 "metadata": {
  "kernelspec": {
   "display_name": "Python 3",
   "language": "python",
   "name": "python3"
  },
  "language_info": {
   "codemirror_mode": {
    "name": "ipython",
    "version": 3
   },
   "file_extension": ".py",
   "mimetype": "text/x-python",
   "name": "python",
   "nbconvert_exporter": "python",
   "pygments_lexer": "ipython3",
   "version": "3.6.13"
  }
 },
 "nbformat": 4,
 "nbformat_minor": 5
}
